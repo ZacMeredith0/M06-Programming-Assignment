{
 "cells": [
  {
   "cell_type": "markdown",
   "id": "62d54e41",
   "metadata": {},
   "source": [
    "Ch 13"
   ]
  },
  {
   "cell_type": "code",
   "execution_count": 1,
   "id": "b817a922",
   "metadata": {},
   "outputs": [],
   "source": [
    "import datetime\n",
    "\n",
    "current_date = datetime.date.today().strftime(\"%Y-%m-%d\")\n",
    "with open(\"today.txt\", \"w\") as file:\n",
    "    file.write(current_date)\n",
    "\n",
    "with open(\"today.txt\", \"r\") as file:\n",
    "    today_string = file.read()\n",
    "\n",
    "parsed_date = datetime.datetime.strptime(today_string, \"%Y-%m-%d\").date()"
   ]
  },
  {
   "cell_type": "markdown",
   "id": "0272a8a8",
   "metadata": {},
   "source": [
    "Ch 15"
   ]
  },
  {
   "cell_type": "code",
   "execution_count": 2,
   "id": "20b8d90f",
   "metadata": {},
   "outputs": [],
   "source": [
    "import multiprocessing\n",
    "import time\n",
    "import random\n",
    "\n",
    "def process_func():\n",
    "    wait_time = random.random()\n",
    "    time.sleep(wait_time)\n",
    "    current_time = time.strftime(\"%H:%M:%S\", time.localtime())\n",
    "    print(f\"Current time: {current_time}\")\n",
    "\n",
    "if __name__ == \"__main__\":\n",
    "    processes = []\n",
    "    for _ in range(3):\n",
    "        p = multiprocessing.Process(target=process_func)\n",
    "        p.start()\n",
    "        processes.append(p)\n",
    "\n",
    "    for p in processes:\n",
    "        p.join()"
   ]
  }
 ],
 "metadata": {
  "kernelspec": {
   "display_name": "Python 3 (ipykernel)",
   "language": "python",
   "name": "python3"
  },
  "language_info": {
   "codemirror_mode": {
    "name": "ipython",
    "version": 3
   },
   "file_extension": ".py",
   "mimetype": "text/x-python",
   "name": "python",
   "nbconvert_exporter": "python",
   "pygments_lexer": "ipython3",
   "version": "3.11.5"
  }
 },
 "nbformat": 4,
 "nbformat_minor": 5
}
